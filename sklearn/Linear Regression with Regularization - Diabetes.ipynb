{
 "cells": [
  {
   "cell_type": "code",
   "execution_count": 6,
   "metadata": {
    "collapsed": false
   },
   "outputs": [],
   "source": [
    "\n",
    "%matplotlib inline\n",
    "from bokeh.plotting import figure, show, output_notebook"
   ]
  },
  {
   "cell_type": "markdown",
   "metadata": {},
   "source": [
    "\n",
    "# Linear Regression Example\n",
    "\n",
    "This example uses the only the first feature of the `diabetes` dataset, in\n",
    "order to illustrate a two-dimensional plot of this regression technique. The\n",
    "straight line can be seen in the plot, showing how linear regression attempts\n",
    "to draw a straight line that will best minimize the residual sum of squares\n",
    "between the observed responses in the dataset, and the responses predicted by\n",
    "the linear approximation.\n",
    "\n",
    "The coefficients, the residual sum of squares and the variance score are also\n",
    "calculated.\n",
    "\n"
   ]
  },
  {
   "cell_type": "code",
   "execution_count": 7,
   "metadata": {
    "collapsed": false
   },
   "outputs": [
    {
     "name": "stdout",
     "output_type": "stream",
     "text": [
      "Automatically created module for IPython interactive environment\n"
     ]
    }
   ],
   "source": [
    "print(__doc__)\n",
    "\n",
    "\n",
    "# Code source: Jaques Grobler\n",
    "# License: BSD 3 clause\n",
    "\n",
    "\n",
    "import matplotlib.pyplot as plt\n",
    "import numpy as np\n",
    "from sklearn import datasets, linear_model\n",
    "# Load the diabetes dataset\n",
    "diabetes = datasets.load_diabetes()\n",
    "\n",
    "\n",
    "# Use only one feature\n",
    "diabetes_X = diabetes.data\n"
   ]
  },
  {
   "cell_type": "code",
   "execution_count": 8,
   "metadata": {
    "collapsed": false
   },
   "outputs": [
    {
     "data": {
      "text/plain": [
       "442"
      ]
     },
     "execution_count": 8,
     "metadata": {},
     "output_type": "execute_result"
    }
   ],
   "source": [
    "len(diabetes_X)"
   ]
  },
  {
   "cell_type": "code",
   "execution_count": 14,
   "metadata": {
    "collapsed": false
   },
   "outputs": [
    {
     "name": "stdout",
     "output_type": "stream",
     "text": [
      "('Coefficients: \\n', array([  -3.78606011, -235.47377739,  533.3485139 ,  321.69200267,\n",
      "       -827.89481203,  521.12370087,  115.57077061,  159.58767508,\n",
      "        742.51130661,   55.80177895]))\n"
     ]
    }
   ],
   "source": [
    "# Split the data into training/testing sets\n",
    "\n",
    "np.random.seed(0)\n",
    "indices = np.random.permutation(len(diabetes_X))\n",
    "diabetes_X_train = diabetes_X[indices[:-20]]\n",
    "diabetes_X_test = diabetes_X[indices[-20:]]\n",
    "\n",
    "# Split the targets into training/testing sets\n",
    "diabetes_y_train = diabetes.target[indices[:-20]]\n",
    "diabetes_y_test = diabetes.target[indices[-20:]]\n",
    "\n",
    "# Create linear regression object\n",
    "regr = linear_model.LinearRegression()\n",
    "\n",
    "# Train the model using the training sets\n",
    "regr.fit(diabetes_X_train, diabetes_y_train)\n",
    "\n",
    "# The coefficients\n",
    "print('Coefficients: \\n', regr.coef_)"
   ]
  },
  {
   "cell_type": "code",
   "execution_count": 15,
   "metadata": {
    "collapsed": false
   },
   "outputs": [
    {
     "name": "stdout",
     "output_type": "stream",
     "text": [
      "0.508586627784\n",
      "0.637757069018\n"
     ]
    }
   ],
   "source": [
    "print regr.score(diabetes_X_train, diabetes_y_train)\n",
    "print regr.score(diabetes_X_test, diabetes_y_test)"
   ]
  },
  {
   "cell_type": "code",
   "execution_count": 21,
   "metadata": {
    "collapsed": false
   },
   "outputs": [
    {
     "name": "stdout",
     "output_type": "stream",
     "text": [
      "alpha = 0.000100 score = 0.637831 MSE = 3170.878546\n",
      "alpha = 0.001000 score = 0.638363 MSE = 3166.221066\n",
      "alpha = 0.010000 score = 0.639188 MSE = 3158.993960\n",
      "alpha = 0.100000 score = 0.628907 MSE = 3249.009010\n",
      "alpha = 1.000000 score = 0.527802 MSE = 4134.204556\n",
      "alpha = 10.000000 score = 0.207023 MSE = 6942.701166\n"
     ]
    }
   ],
   "source": [
    "# manually finding the ridge parameter\n",
    "alphas = np.logspace(-4,1,6)\n",
    "for a in alphas:\n",
    "    ridge_model = linear_model.Ridge(alpha=a)\n",
    "    ridge_model.fit(diabetes_X_train, diabetes_y_train)\n",
    "    print 'alpha = %f' % a,\n",
    "    print 'score = %f' % ridge_model.score(diabetes_X_test,diabetes_y_test),\n",
    "    print 'MSE = %f' % np.mean((ridge_model.predict(diabetes_X_test) - diabetes_y_test)**2)\n",
    "    "
   ]
  },
  {
   "cell_type": "code",
   "execution_count": 23,
   "metadata": {
    "collapsed": false
   },
   "outputs": [],
   "source": [
    "# finding the corresponding lasso fit\n",
    "lasso_model = linear_model.Lasso()\n",
    "\n",
    "scores = [lasso_model.set_params(alpha=a\n",
    "                                ).fit(diabetes_X_train, diabetes_y_train\n",
    "                                ).score(diabetes_X_test, diabetes_y_test)\n",
    "                         for a in alphas]\n",
    "\n"
   ]
  },
  {
   "cell_type": "code",
   "execution_count": 39,
   "metadata": {
    "collapsed": false
   },
   "outputs": [
    {
     "name": "stdout",
     "output_type": "stream",
     "text": [
      "0.638494504826\n"
     ]
    }
   ],
   "source": [
    "# find the best performing lasso parameter\n",
    "print max(scores)\n",
    "best_alpha = alphas[scores.index(max(scores))]\n",
    "# 63.8% test accuracy"
   ]
  },
  {
   "cell_type": "code",
   "execution_count": 27,
   "metadata": {
    "collapsed": false
   },
   "outputs": [
    {
     "name": "stdout",
     "output_type": "stream",
     "text": [
      "[  -0.         -222.95341234  538.68565764  315.12769556 -332.61745303\n",
      "  122.65109957  -91.48915517  106.88826037  558.8842569    53.90992404]\n"
     ]
    }
   ],
   "source": [
    "# print the best performing model\n",
    "lasso_model.alpha = best_alpha\n",
    "lasso_model.fit(diabetes_X_train, diabetes_y_train)\n",
    "print lasso_model.coef_"
   ]
  }
 ],
 "metadata": {
  "kernelspec": {
   "display_name": "Python 2",
   "language": "python",
   "name": "python2"
  },
  "language_info": {
   "codemirror_mode": {
    "name": "ipython",
    "version": 2
   },
   "file_extension": ".py",
   "mimetype": "text/x-python",
   "name": "python",
   "nbconvert_exporter": "python",
   "pygments_lexer": "ipython2",
   "version": "2.7.12"
  }
 },
 "nbformat": 4,
 "nbformat_minor": 0
}
